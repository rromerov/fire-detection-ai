{
 "cells": [
  {
   "cell_type": "code",
   "execution_count": 23,
   "metadata": {},
   "outputs": [],
   "source": [
    "import pandas as pd"
   ]
  },
  {
   "cell_type": "code",
   "execution_count": 20,
   "metadata": {},
   "outputs": [],
   "source": [
    "file=\"fire_nrt_V1_96617.csv\"\n",
    "df=pd.read_csv(file)"
   ]
  },
  {
   "cell_type": "code",
   "execution_count": 21,
   "metadata": {},
   "outputs": [
    {
     "data": {
      "text/html": [
       "<div>\n",
       "<style scoped>\n",
       "    .dataframe tbody tr th:only-of-type {\n",
       "        vertical-align: middle;\n",
       "    }\n",
       "\n",
       "    .dataframe tbody tr th {\n",
       "        vertical-align: top;\n",
       "    }\n",
       "\n",
       "    .dataframe thead th {\n",
       "        text-align: right;\n",
       "    }\n",
       "</style>\n",
       "<table border=\"1\" class=\"dataframe\">\n",
       "  <thead>\n",
       "    <tr style=\"text-align: right;\">\n",
       "      <th></th>\n",
       "      <th>latitude</th>\n",
       "      <th>longitude</th>\n",
       "      <th>bright_ti4</th>\n",
       "      <th>scan</th>\n",
       "      <th>track</th>\n",
       "      <th>acq_date</th>\n",
       "      <th>acq_time</th>\n",
       "      <th>satellite</th>\n",
       "      <th>instrument</th>\n",
       "      <th>confidence</th>\n",
       "      <th>version</th>\n",
       "      <th>bright_ti5</th>\n",
       "      <th>frp</th>\n",
       "      <th>daynight</th>\n",
       "    </tr>\n",
       "  </thead>\n",
       "  <tbody>\n",
       "    <tr>\n",
       "      <th>0</th>\n",
       "      <td>-42.69706</td>\n",
       "      <td>147.70634</td>\n",
       "      <td>333.6</td>\n",
       "      <td>0.57</td>\n",
       "      <td>0.43</td>\n",
       "      <td>2019-10-01</td>\n",
       "      <td>336</td>\n",
       "      <td>N</td>\n",
       "      <td>VIIRS</td>\n",
       "      <td>n</td>\n",
       "      <td>1.0NRT</td>\n",
       "      <td>293.4</td>\n",
       "      <td>4.0</td>\n",
       "      <td>D</td>\n",
       "    </tr>\n",
       "    <tr>\n",
       "      <th>1</th>\n",
       "      <td>-42.26889</td>\n",
       "      <td>147.31104</td>\n",
       "      <td>336.2</td>\n",
       "      <td>0.39</td>\n",
       "      <td>0.44</td>\n",
       "      <td>2019-10-01</td>\n",
       "      <td>336</td>\n",
       "      <td>N</td>\n",
       "      <td>VIIRS</td>\n",
       "      <td>n</td>\n",
       "      <td>1.0NRT</td>\n",
       "      <td>296.9</td>\n",
       "      <td>3.9</td>\n",
       "      <td>D</td>\n",
       "    </tr>\n",
       "    <tr>\n",
       "      <th>2</th>\n",
       "      <td>-40.85202</td>\n",
       "      <td>145.38068</td>\n",
       "      <td>327.9</td>\n",
       "      <td>0.46</td>\n",
       "      <td>0.47</td>\n",
       "      <td>2019-10-01</td>\n",
       "      <td>336</td>\n",
       "      <td>N</td>\n",
       "      <td>VIIRS</td>\n",
       "      <td>n</td>\n",
       "      <td>1.0NRT</td>\n",
       "      <td>295.3</td>\n",
       "      <td>3.7</td>\n",
       "      <td>D</td>\n",
       "    </tr>\n",
       "    <tr>\n",
       "      <th>3</th>\n",
       "      <td>-42.39329</td>\n",
       "      <td>147.47144</td>\n",
       "      <td>346.9</td>\n",
       "      <td>0.38</td>\n",
       "      <td>0.43</td>\n",
       "      <td>2019-10-01</td>\n",
       "      <td>336</td>\n",
       "      <td>N</td>\n",
       "      <td>VIIRS</td>\n",
       "      <td>n</td>\n",
       "      <td>1.0NRT</td>\n",
       "      <td>294.2</td>\n",
       "      <td>6.2</td>\n",
       "      <td>D</td>\n",
       "    </tr>\n",
       "    <tr>\n",
       "      <th>4</th>\n",
       "      <td>-42.69701</td>\n",
       "      <td>147.70584</td>\n",
       "      <td>334.1</td>\n",
       "      <td>0.56</td>\n",
       "      <td>0.43</td>\n",
       "      <td>2019-10-01</td>\n",
       "      <td>336</td>\n",
       "      <td>N</td>\n",
       "      <td>VIIRS</td>\n",
       "      <td>n</td>\n",
       "      <td>1.0NRT</td>\n",
       "      <td>293.5</td>\n",
       "      <td>4.1</td>\n",
       "      <td>D</td>\n",
       "    </tr>\n",
       "  </tbody>\n",
       "</table>\n",
       "</div>"
      ],
      "text/plain": [
       "   latitude  longitude  bright_ti4  scan  track    acq_date  acq_time  \\\n",
       "0 -42.69706  147.70634       333.6  0.57   0.43  2019-10-01       336   \n",
       "1 -42.26889  147.31104       336.2  0.39   0.44  2019-10-01       336   \n",
       "2 -40.85202  145.38068       327.9  0.46   0.47  2019-10-01       336   \n",
       "3 -42.39329  147.47144       346.9  0.38   0.43  2019-10-01       336   \n",
       "4 -42.69701  147.70584       334.1  0.56   0.43  2019-10-01       336   \n",
       "\n",
       "  satellite instrument confidence version  bright_ti5  frp daynight  \n",
       "0         N      VIIRS          n  1.0NRT       293.4  4.0        D  \n",
       "1         N      VIIRS          n  1.0NRT       296.9  3.9        D  \n",
       "2         N      VIIRS          n  1.0NRT       295.3  3.7        D  \n",
       "3         N      VIIRS          n  1.0NRT       294.2  6.2        D  \n",
       "4         N      VIIRS          n  1.0NRT       293.5  4.1        D  "
      ]
     },
     "execution_count": 21,
     "metadata": {},
     "output_type": "execute_result"
    }
   ],
   "source": [
    "df.head()"
   ]
  },
  {
   "cell_type": "code",
   "execution_count": 7,
   "metadata": {},
   "outputs": [],
   "source": [
    "df_night=df[df[\"daynight\"]==\"N\"]"
   ]
  },
  {
   "cell_type": "code",
   "execution_count": 14,
   "metadata": {},
   "outputs": [],
   "source": [
    "incendios_en_la_noche=df_night.daynight.count()"
   ]
  },
  {
   "cell_type": "code",
   "execution_count": 9,
   "metadata": {},
   "outputs": [],
   "source": [
    "df_day=df[df[\"daynight\"]==\"D\"]"
   ]
  },
  {
   "cell_type": "code",
   "execution_count": 15,
   "metadata": {},
   "outputs": [],
   "source": [
    "incendios_en_el_dia=df_day.daynight.count()"
   ]
  },
  {
   "cell_type": "code",
   "execution_count": 16,
   "metadata": {},
   "outputs": [],
   "source": [
    "total_incendios=df.daynight.count()"
   ]
  },
  {
   "cell_type": "code",
   "execution_count": 17,
   "metadata": {},
   "outputs": [
    {
     "name": "stdout",
     "output_type": "stream",
     "text": [
      "48.3835412446654\n"
     ]
    }
   ],
   "source": [
    "porcentaje_incendios_dia=(incendios_en_el_dia*100)/(total_incendios)\n",
    "print(porcentaje_incendios_dia)"
   ]
  },
  {
   "cell_type": "code",
   "execution_count": 18,
   "metadata": {},
   "outputs": [
    {
     "name": "stdout",
     "output_type": "stream",
     "text": [
      "51.6164587553346\n"
     ]
    }
   ],
   "source": [
    "porcentaje_incedios_noche=(incendios_en_la_noche*100)/(total_incendios)\n",
    "print(porcentaje_incedios_noche)"
   ]
  },
  {
   "cell_type": "markdown",
   "metadata": {},
   "source": [
    "### Conclusiones\n",
    "\n",
    "Se presenta un mayor número de incendios en la noche"
   ]
  }
 ],
 "metadata": {
  "kernelspec": {
   "display_name": "Python 3.9.7 64-bit",
   "language": "python",
   "name": "python3"
  },
  "language_info": {
   "codemirror_mode": {
    "name": "ipython",
    "version": 3
   },
   "file_extension": ".py",
   "mimetype": "text/x-python",
   "name": "python",
   "nbconvert_exporter": "python",
   "pygments_lexer": "ipython3",
   "version": "3.9.7"
  },
  "orig_nbformat": 4,
  "vscode": {
   "interpreter": {
    "hash": "f8b966a247241c6fd710b2830295840772be9d2629ac9f1c3370fb179c9f1157"
   }
  }
 },
 "nbformat": 4,
 "nbformat_minor": 2
}
